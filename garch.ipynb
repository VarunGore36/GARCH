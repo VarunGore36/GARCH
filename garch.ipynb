{
 "cells": [
  {
   "cell_type": "code",
   "execution_count": 4,
   "id": "1aa24948",
   "metadata": {},
   "outputs": [
    {
     "name": "stdout",
     "output_type": "stream",
     "text": [
      "Downloaded columns: [('Close', '^GSPC'), ('High', '^GSPC'), ('Low', '^GSPC'), ('Open', '^GSPC'), ('Volume', '^GSPC')]\n",
      "\n",
      "Preview:\n",
      "Price             Close Return_pct\n",
      "Ticker            ^GSPC           \n",
      "Date                              \n",
      "2015-01-05  2020.579956  -1.827811\n",
      "2015-01-06  2002.609985  -0.889347\n",
      "2015-01-07  2025.900024   1.162984\n",
      "2015-01-08  2062.139893   1.788828\n",
      "2015-01-09  2044.810059  -0.840381\n",
      "\n",
      "Return statistics (in %):\n",
      "count    2263.000000\n",
      "mean        0.043831\n",
      "std         1.153725\n",
      "min       -11.984055\n",
      "25%        -0.389495\n",
      "50%         0.059422\n",
      "75%         0.580972\n",
      "max         9.382774\n",
      "Name: Return_pct, dtype: float64\n",
      "\n",
      "Saved as 'sp500_prices.csv'\n"
     ]
    },
    {
     "name": "stderr",
     "output_type": "stream",
     "text": [
      "C:\\Users\\varun\\AppData\\Local\\Temp\\ipykernel_11384\\3297776602.py:13: FutureWarning: YF.download() has changed argument auto_adjust default to True\n",
      "  data = yf.download(ticker, start=start_date, end=end_date, progress=False)\n",
      "C:\\Users\\varun\\AppData\\Local\\Temp\\ipykernel_11384\\3297776602.py:27: SettingWithCopyWarning: \n",
      "A value is trying to be set on a copy of a slice from a DataFrame.\n",
      "Try using .loc[row_indexer,col_indexer] = value instead\n",
      "\n",
      "See the caveats in the documentation: https://pandas.pydata.org/pandas-docs/stable/user_guide/indexing.html#returning-a-view-versus-a-copy\n",
      "  df[\"Return_pct\"] = 100 * df[\"Close\"].pct_change()\n"
     ]
    }
   ],
   "source": [
    "import yfinance as yf\n",
    "import pandas as pd\n",
    "import numpy as np\n",
    "\n",
    "ticker = \"^GSPC\"   # S&P 500 index (can change to \"AAPL\", \"TSLA\", etc.)\n",
    "start_date = \"2015-01-01\"\n",
    "end_date = \"2024-01-01\"\n",
    "\n",
    "\n",
    "data = yf.download(ticker, start=start_date, end=end_date, progress=False)\n",
    "\n",
    "\n",
    "print(\"Downloaded columns:\", data.columns.tolist())\n",
    "\n",
    "\n",
    "if \"Adj Close\" in data.columns:\n",
    "    df = data[[\"Adj Close\"]].rename(columns={\"Adj Close\": \"Close\"})\n",
    "elif \"Close\" in data.columns:\n",
    "    df = data[[\"Close\"]]\n",
    "else:\n",
    "    raise KeyError(f\"No 'Close' or 'Adj Close' found in downloaded data columns: {data.columns}\")\n",
    "\n",
    "# Compute percent returns\n",
    "df[\"Return_pct\"] = 100 * df[\"Close\"].pct_change()\n",
    "df = df.dropna()\n",
    "\n",
    "# Show preview and summary stats\n",
    "print(\"\\nPreview:\")\n",
    "print(df.head())\n",
    "print(\"\\nReturn statistics (in %):\")\n",
    "print(df[\"Return_pct\"].describe())\n",
    "\n",
    "# Optional: Save data to CSV for later use\n",
    "df.to_csv(\"sp500_prices.csv\")\n",
    "print(\"\\nSaved as 'sp500_prices.csv'\")\n",
    "\n"
   ]
  },
  {
   "cell_type": "code",
   "execution_count": null,
   "id": "7fe0646e-3696-42f5-a633-7537bfce60ff",
   "metadata": {},
   "outputs": [],
   "source": []
  }
 ],
 "metadata": {
  "kernelspec": {
   "display_name": "Python [conda env:base] *",
   "language": "python",
   "name": "conda-base-py"
  },
  "language_info": {
   "codemirror_mode": {
    "name": "ipython",
    "version": 3
   },
   "file_extension": ".py",
   "mimetype": "text/x-python",
   "name": "python",
   "nbconvert_exporter": "python",
   "pygments_lexer": "ipython3",
   "version": "3.13.5"
  }
 },
 "nbformat": 4,
 "nbformat_minor": 5
}
